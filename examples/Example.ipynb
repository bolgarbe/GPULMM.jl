{
 "cells": [
  {
   "cell_type": "markdown",
   "id": "3b189530-f8e3-4b44-a87b-e69d02d90663",
   "metadata": {},
   "source": [
    "## Load packages"
   ]
  },
  {
   "cell_type": "code",
   "execution_count": 2,
   "id": "e00c1400-013f-4c33-9232-98699a5aabb3",
   "metadata": {},
   "outputs": [],
   "source": [
    "using GPULMM, Flux, CUDA, SnpArrays, JLD, CSV, DataFrames, StatsBase, LinearAlgebra, ProgressMeter\n",
    "CUDA.allowscalar(false)\n",
    "ProgressMeter.ijulia_behavior(:clear);"
   ]
  },
  {
   "cell_type": "markdown",
   "id": "a5c33316-4210-4df5-a8ec-8fbbdd052d19",
   "metadata": {},
   "source": [
    "## Load data"
   ]
  },
  {
   "cell_type": "code",
   "execution_count": 3,
   "id": "a2eea818-b8a1-495e-9680-78ef77c47717",
   "metadata": {},
   "outputs": [],
   "source": [
    "# 30217 samples, 13 covariates, 998187 SNPs\n",
    "df = CSV.read(\"data/pheno/pheno.csv\", DataFrame);"
   ]
  },
  {
   "cell_type": "code",
   "execution_count": 4,
   "id": "0df54a0f-ca26-4e7f-9fb3-f29302fa004a",
   "metadata": {},
   "outputs": [],
   "source": [
    "# Load covariates\n",
    "X  = Matrix{Float32}(df[!,[\"Age_cont\"]])\n",
    "X  = (X .- mean(X,dims=1))./std(X,dims=1)\n",
    "\n",
    "# Load and project traits\n",
    "y  = Float32.(df[!,\"Current_depression_cont\"])\n",
    "y  = (y .- mean(y))./std(y)\n",
    "y.-= (X'X)\\(X'y)\n",
    "\n",
    "# Load kinship matrix\n",
    "K  = JLD.load(\"data/kinship/kinship_projected.jld\")[\"K\"];"
   ]
  },
  {
   "cell_type": "markdown",
   "id": "ed87eb81-c76f-4dcd-a4a4-e4c40a4908d8",
   "metadata": {},
   "source": [
    "## Fit base variance components"
   ]
  },
  {
   "cell_type": "code",
   "execution_count": 5,
   "id": "0181b9c1-cbd5-4448-9f92-de1667da4aac",
   "metadata": {},
   "outputs": [],
   "source": [
    "# Put everything on the GPU\n",
    "K_  = K |> cu\n",
    "y_  = y |> cu;"
   ]
  },
  {
   "cell_type": "code",
   "execution_count": 6,
   "id": "ec045cd1-edc8-47ad-a346-9ef0a410a377",
   "metadata": {},
   "outputs": [
    {
     "name": "stderr",
     "output_type": "stream",
     "text": [
      "\u001b[32mProgress: 100%|███████████████████████████| Time: 0:00:56 ( 0.28  s/it)\u001b[39m\n",
      "\u001b[34m  loss:        30703.843780402032\u001b[39m\n",
      "\u001b[34m  components:  Float32[0.5600163, 0.7387179]\u001b[39m\n"
     ]
    }
   ],
   "source": [
    "# Fit base variance components\n",
    "opt = Adam(0.01)\n",
    "vc = fit_components(K_,y_;optimizer=opt,optimizer_iters=200);"
   ]
  },
  {
   "cell_type": "markdown",
   "id": "8fcd53e6-41f1-4b22-84d4-eab396a6115b",
   "metadata": {},
   "source": [
    "## Load SNP sets and SNP data"
   ]
  },
  {
   "cell_type": "code",
   "execution_count": 7,
   "id": "2b4eecb6-3016-492e-b302-64bbed50bc50",
   "metadata": {},
   "outputs": [],
   "source": [
    "data = SnpData(\"data/plink/geno-ld08\")\n",
    "sets = open(\"data/sets/go.tsv\") do f\n",
    "   function p(l)\n",
    "       recs = split(l,\"\\t\")\n",
    "       string(recs[1]) => string.(recs[2:end])\n",
    "   end\n",
    "   Dict(p(l) for l in eachline(f))\n",
    "end\n",
    "snp_cols = Dict(zip(data.snp_info.snpid,1:size(data.snparray,2)));"
   ]
  },
  {
   "cell_type": "code",
   "execution_count": 8,
   "id": "04c152df-7183-4309-854e-7f44f3af22ac",
   "metadata": {},
   "outputs": [],
   "source": [
    "S = zeros(Float32,size(data.snparray)...)\n",
    "Base.copyto!(S,data.snparray, model=ADDITIVE_MODEL, impute=true, center=true, scale=true);"
   ]
  },
  {
   "cell_type": "markdown",
   "id": "f95f7e4d-9ebb-4c20-9c82-563a7fef5f66",
   "metadata": {},
   "source": [
    "## Test sets"
   ]
  },
  {
   "cell_type": "code",
   "execution_count": 9,
   "id": "f95e5b29-6ba5-41f4-9682-655e1656127d",
   "metadata": {},
   "outputs": [],
   "source": [
    "st = SetTest(vc,y_);"
   ]
  },
  {
   "cell_type": "code",
   "execution_count": 10,
   "id": "3e947d7d-8b08-4674-b282-2a73ac5d6874",
   "metadata": {},
   "outputs": [
    {
     "name": "stderr",
     "output_type": "stream",
     "text": [
      "\u001b[32mProgress: 100%|███████████████████████████| Time: 0:00:37 ( 0.12  s/it)\u001b[39m\n",
      "\u001b[34m  set_id:  GOBP_MATURE_RIBOSOME_ASSEMBLY\u001b[39m\n",
      "\u001b[34m  pval:    0.7815254402371534\u001b[39m\n",
      "\u001b[34m  size:    137\u001b[39m\n"
     ]
    }
   ],
   "source": [
    "progress = Progress(length(sets),showspeed=true)\n",
    "pvals = Dict{String,Float64}()\n",
    "for (set_id,set_snps) in sets\n",
    "    cols = Int[]\n",
    "    for s in set_snps\n",
    "        r = get(snp_cols,s,0)\n",
    "        if r>0\n",
    "            push!(cols,r)\n",
    "        end\n",
    "    end\n",
    "    g   = S[:,cols]\n",
    "    g .-= (X'X)\\(X'g)\n",
    "    g_  = g |> cu\n",
    "    \n",
    "    _,pval = p_value(st,g_)\n",
    "    pvals[set_id] = pval\n",
    "    \n",
    "    ProgressMeter.next!(progress; showvalues=[(:set_id,set_id),(:pval,pval),(:size,length(cols))])\n",
    "end"
   ]
  },
  {
   "cell_type": "code",
   "execution_count": null,
   "id": "918cce6e-efb0-4b24-9f7d-e4688da60751",
   "metadata": {},
   "outputs": [],
   "source": []
  }
 ],
 "metadata": {
  "kernelspec": {
   "display_name": "Julia 1.8.1",
   "language": "julia",
   "name": "julia-1.8"
  },
  "language_info": {
   "file_extension": ".jl",
   "mimetype": "application/julia",
   "name": "julia",
   "version": "1.8.1"
  }
 },
 "nbformat": 4,
 "nbformat_minor": 5
}
