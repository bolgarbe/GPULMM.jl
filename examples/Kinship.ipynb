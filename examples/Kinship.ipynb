{
 "cells": [
  {
   "cell_type": "markdown",
   "id": "3b189530-f8e3-4b44-a87b-e69d02d90663",
   "metadata": {},
   "source": [
    "## Load packages"
   ]
  },
  {
   "cell_type": "code",
   "execution_count": 2,
   "id": "e00c1400-013f-4c33-9232-98699a5aabb3",
   "metadata": {},
   "outputs": [],
   "source": [
    "using SnpArrays, JLD, CSV, DataFrames"
   ]
  },
  {
   "cell_type": "markdown",
   "id": "a5c33316-4210-4df5-a8ec-8fbbdd052d19",
   "metadata": {},
   "source": [
    "## Load data"
   ]
  },
  {
   "cell_type": "code",
   "execution_count": 3,
   "id": "a2eea818-b8a1-495e-9680-78ef77c47717",
   "metadata": {},
   "outputs": [],
   "source": [
    "df = CSV.read(\"data/pheno/pheno.csv\", DataFrame);"
   ]
  },
  {
   "cell_type": "code",
   "execution_count": 4,
   "id": "790612d0-d9a7-46bf-8fdf-693761c1abc2",
   "metadata": {},
   "outputs": [],
   "source": [
    "# Load covariates\n",
    "X  = Matrix{Float32}(df[!,[\"Age_cont\",\"Sex\"]])\n",
    "X  = (X .- mean(X,dims=1))./std(X,dims=1);"
   ]
  },
  {
   "cell_type": "code",
   "execution_count": 5,
   "id": "90bf2ab2-3cf7-46a3-a1f4-6924323befc1",
   "metadata": {},
   "outputs": [],
   "source": [
    "# Load and project SNPs\n",
    "data = SnpData(\"data/plink/geno-ld08\")\n",
    "S    = zeros(Float32,size(data.snparray)...)\n",
    "Base.copyto!(S,data.snparray, model=ADDITIVE_MODEL, impute=true, center=true, scale=true)\n",
    "S  .-= X*((X'X)\\(X'S));"
   ]
  },
  {
   "cell_type": "markdown",
   "id": "bbe4fb5b-fedb-4f38-be1f-55bb2d049c40",
   "metadata": {},
   "source": [
    "## Compute kinship"
   ]
  },
  {
   "cell_type": "code",
   "execution_count": 6,
   "id": "f64ca108-405f-4520-8ac7-e34b47ef52d9",
   "metadata": {},
   "outputs": [],
   "source": [
    "# Full kinship matrix\n",
    "K = S*S' ./ (2*size(S,2))\n",
    "JLD.save(\"data/kinship/kinship_projected.jld\",\"K\",K)"
   ]
  },
  {
   "cell_type": "code",
   "execution_count": null,
   "id": "78803194-2f49-47d4-8326-2aeaeddcd04a",
   "metadata": {},
   "outputs": [],
   "source": [
    "# LOCO kinship matrices\n",
    "for i in 1:25\n",
    "    println(\"Computing LOCO projected kinship for chr $i\")\n",
    "    cols = findall(data.snp_info.chromosome .!= string(i))\n",
    "    S_ = @view S[:,cols]\n",
    "    K = S_*S_' ./ (2*size(S_,2))\n",
    "    JLD.save(\"data/kinship/kinship_projected_loco_$i.jld\",\"K\",K)\n",
    "end"
   ]
  },
  {
   "cell_type": "code",
   "execution_count": null,
   "id": "bdb4f041-e38d-4f48-87f2-046bc9ba7c53",
   "metadata": {},
   "outputs": [],
   "source": []
  }
 ],
 "metadata": {
  "kernelspec": {
   "display_name": "Julia 1.8.1",
   "language": "julia",
   "name": "julia-1.8"
  },
  "language_info": {
   "file_extension": ".jl",
   "mimetype": "application/julia",
   "name": "julia",
   "version": "1.8.1"
  }
 },
 "nbformat": 4,
 "nbformat_minor": 5
}
